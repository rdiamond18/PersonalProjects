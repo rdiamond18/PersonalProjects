{
  "nbformat": 4,
  "nbformat_minor": 0,
  "metadata": {
    "colab": {
      "provenance": []
    },
    "kernelspec": {
      "name": "python3",
      "display_name": "Python 3"
    },
    "language_info": {
      "name": "python"
    }
  },
  "cells": [
    {
      "cell_type": "markdown",
      "source": [
        "# Tufts BAT Team 2 - Reds Hackathon Notebook\n",
        "### Authored by Richard Diamond, Jackson Ehrlich, Ben Goldberg, Ronan Hwang and Wesley Rivers\n",
        "\n",
        "# Introduction\n",
        "The performance of every player is broken down into dozens of different statistics, collected during every pitch, at bat, and fielding opportunity. With this data, front offices attempt to “rate” a player’s abilities. But these attributes are driven by the bodily capital that a player offers. If a player’s body is unable to perform at their maximum capacity, it is unlikely that they will provide value to a major league club. In simple terms, if a player cannot play, they are no help to their team.\n",
        "\n",
        "Using the data provided, we started our process by brainstorming the attributes that would most likely impact a player’s availability. After organizing our data, we constructed two RandomForest models, one for batters and one for pitchers. These RandomForest models would not only help us make predictions, but highlight what factors lead to higher number of plate appearances and batters faced.\n"
      ],
      "metadata": {
        "id": "kjVMOytYBg1M"
      }
    },
    {
      "cell_type": "markdown",
      "source": [
        "#### Imports"
      ],
      "metadata": {
        "id": "qtBa_l1LDL_3"
      }
    },
    {
      "cell_type": "code",
      "source": [
        "import numpy as np\n",
        "import pandas as pd\n",
        "import matplotlib.pyplot as plt\n",
        "from sklearn.model_selection import GridSearchCV\n",
        "from sklearn.ensemble import RandomForestRegressor\n",
        "from sklearn.model_selection import train_test_split\n",
        "from sklearn.metrics import mean_squared_error"
      ],
      "metadata": {
        "id": "36OtFJ79DNNb"
      },
      "execution_count": 1,
      "outputs": []
    },
    {
      "cell_type": "markdown",
      "source": [
        "# Data Preprocessing"
      ],
      "metadata": {
        "id": "FMS-NiLUBi2C"
      }
    },
    {
      "cell_type": "markdown",
      "source": [
        "### People Database\n",
        "\n",
        "One of the first datasets we worked on was the Lahman people database. This database provided information on players' age, height, weight and handedness.  \n",
        "Our main challenge here was finding players' ages by year. Since our inputs to our model would be a player's season-long data, we needed to ensure that the age variable matched exactly how old they were at the start of the season. Our code for this is linked in this [age.ipynb](https://colab.research.google.com/drive/1PyLGEKjBTSPwJvf7hO3jDC37BITl8hj-?authuser=2#scrollTo=LbJ4oeck6_6T) notebook.  \n",
        "From this dataset, we exported age, weight, height, batting handedness and pitching handedness."
      ],
      "metadata": {
        "id": "tMkPgzHyDZk2"
      }
    },
    {
      "cell_type": "markdown",
      "source": [
        "### Batting Data\n",
        "Since our plan was to have two distinct models for batting and for pitching, we started by gathering relevant batter data. the first thing we sought to gather was any given player's pitches played in the field in their previous year. This was a simple calculation based on the baseball savant pitches database, as all we had to do was see how many times a player was listed as one of the nine fielders in savant's data in any given year.  \n",
        "\n",
        "\n",
        "From there, we then gathered information on what a player's primary position was in a given year. Primary position was gathered by finding the position at which a player appeared the most times in that given season.\n",
        "We then gathered the amount of plate appearances a player had in any given year. We did this by creating a unique plate appearance id as follows:\n",
        "\n",
        "\n",
        "\n",
        "```\n",
        "def get_unique_pa_id(row):\n",
        "    game_pk = str(row['game_pk'])  # Game ID\n",
        "    inning = str(row['inning'])  # Inning number\n",
        "    outs_when_up = str(row['outs_when_up'])  # Outs when batter comes up\n",
        "    bat_score = str(row['bat_score'])  # Batting score\n",
        "    topbot = str(row['inning_topbot'])  # Top or Bottom of inning\n",
        "    batter = str(row['batter'])  # Batter\n",
        "    pitcher = str(row['pitcher'])  # Pitcher\n",
        "\n",
        "    # Include both batter and pitcher to ensure unique ID per role\n",
        "    return f\"{game_pk}_{inning}_{outs_when_up}_{bat_score}_{topbot}_{batter}_{pitcher}\"\n",
        "\n",
        "```\n",
        "\n",
        "We then counted the amount of times each player was batting with a unique id and used that as our ground-truth amount of plate appearances.  \n",
        "\n",
        "Lastly, we found batters' three true outcome percentage. We defined this as the percentage of a batter's plate appearances where they struck out, walked, were hit by a pitch or hit a home run. We then merged this data together to get a complete picture of all batter data.\n",
        "\n",
        "\n"
      ],
      "metadata": {
        "id": "YVDD0-iGB3JX"
      }
    },
    {
      "cell_type": "markdown",
      "source": [
        "### Pitching Data\n",
        "Our pitching data preprocessing was similar to our batting data preprocessing. We gathered batters faced and pitches as variables similarly, and then continued to gather fastball velocity average, as well as relief percentage. We defined relief percentage as the number of pitches thrown as a reliever divided by the total number of pitches thrown. For instance, if a player only ever appears as a reliever, their relief percentage would be 1.0.\n",
        "### Gathering Previous Year Data\n",
        "We did not want to use any data from year x to predict the number of plate appearances or batters faced in year x. Based on this, we needed to offset each data point by one year. For instance, when trying to predict Francisco Lindor's 2023 plate appearances, we fed the model his values from 2022.\n",
        "### Preprocessing notebook\n",
        "\n",
        "The notebook that we used for most of our preprocessing work is called [prepare_data.ipynb](https://colab.research.google.com/drive/1cLhoqBh9uqqnbVBf0W1fMKXX0GH1c0f8?authuser=2#scrollTo=32kmHEh_4G8S)."
      ],
      "metadata": {
        "id": "9hUbId9QB5FW"
      }
    },
    {
      "cell_type": "markdown",
      "source": [
        "# RandomForest Model\n",
        "We tried many different models for this task, but decided on a RandomForest model. RandomForest models offer good explainability as well as predictive power. More documentation on RandomForest can be found [here](https://www.geeksforgeeks.org/random-forest-algorithm-in-machine-learning/)."
      ],
      "metadata": {
        "id": "jDG8MtHZBk4g"
      }
    },
    {
      "cell_type": "markdown",
      "source": [
        "### Setup\n",
        "We first had to mount our drive, and load in our dataset."
      ],
      "metadata": {
        "id": "gmpK4C0MLqqg"
      }
    },
    {
      "cell_type": "code",
      "source": [
        "#mount drive\n",
        "from google.colab import drive\n",
        "drive.mount('/content/drive')"
      ],
      "metadata": {
        "colab": {
          "base_uri": "https://localhost:8080/"
        },
        "id": "FRZdvyucLpse",
        "outputId": "f5110c13-27e1-4941-f599-12e08029018e"
      },
      "execution_count": 2,
      "outputs": [
        {
          "output_type": "stream",
          "name": "stdout",
          "text": [
            "Mounted at /content/drive\n"
          ]
        }
      ]
    },
    {
      "cell_type": "code",
      "source": [
        "#load in data\n",
        "data = pd.read_csv('/content/drive/MyDrive/RedsComp25/redscomp_data.csv')\n",
        "\n",
        "#filter out 2021, as we have no previous year data here (more discussion to follow)\n",
        "data = data[data['year'] > 2021]"
      ],
      "metadata": {
        "id": "p1okbFpVL277"
      },
      "execution_count": 3,
      "outputs": []
    },
    {
      "cell_type": "markdown",
      "source": [
        "We then build a one-hot encoding for our primary position variable, in order to make it compatible with any model we would build."
      ],
      "metadata": {
        "id": "W1dfRkJ8L56h"
      }
    },
    {
      "cell_type": "code",
      "source": [
        "#use one hot encoding to encode position (categorical variable)\n",
        "data = pd.get_dummies(data, columns=['prev_year_primary_position'], prefix='position')\n",
        "\n",
        "#use one hot encoding to encode bats column\n",
        "data = pd.get_dummies(data, columns=['bats'], prefix='bats')"
      ],
      "metadata": {
        "id": "ceJn7O81NO7l"
      },
      "execution_count": 4,
      "outputs": []
    },
    {
      "cell_type": "markdown",
      "source": [
        "We then also had to make our righty-lefty variables numeric."
      ],
      "metadata": {
        "id": "hSwEpZG9NRPC"
      }
    },
    {
      "cell_type": "code",
      "source": [
        "#convert throws to 0-1 (0 = lefty, 1 = righty)\n",
        "data['throws'] = data['throws'].map({'L': 0, 'R': 1})"
      ],
      "metadata": {
        "id": "PyKKu-OlOhKQ"
      },
      "execution_count": 5,
      "outputs": []
    },
    {
      "cell_type": "markdown",
      "source": [
        "### Feature selection\n",
        "We then moved onto selecting features for our models, as shown below:"
      ],
      "metadata": {
        "id": "x1RrzmfpKLlr"
      }
    },
    {
      "cell_type": "code",
      "source": [
        "#features for our batting model\n",
        "features_batting = ['weight', 'height', 'age', 'throws',\n",
        "            'prev_year_pitches_played_in_field', 'prev_year_pa', 'prev_year_tto', 'bats_L', 'bats_R', 'bats_B',\n",
        "            'position_0.0','position_2.0', 'position_3.0', 'position_4.0', 'position_5.0',\n",
        "              'position_6.0', 'position_7.0', 'position_8.0', 'position_9.0']\n",
        "target = ['pa']"
      ],
      "metadata": {
        "id": "S53IKmZPLfxV"
      },
      "execution_count": 6,
      "outputs": []
    },
    {
      "cell_type": "code",
      "source": [
        "#features for pitching model\n",
        "features_pitching = ['weight', 'height', 'age', 'throws', 'prev_year_pitches_thrown',\n",
        "             'prev_year_bf', 'prev_year_pct_relief']\n",
        "target_pitching = ['bf']"
      ],
      "metadata": {
        "id": "N5U8S1p-PB4j"
      },
      "execution_count": 7,
      "outputs": []
    },
    {
      "cell_type": "markdown",
      "source": [
        "### Splitting data into train and test\n",
        "To build our model, we needed to define a train and test set individually for both batters and pitchers:"
      ],
      "metadata": {
        "id": "Ca5s_P9-PF9H"
      }
    },
    {
      "cell_type": "code",
      "source": [
        "data_batting_short = data[['player', 'weight', 'height', 'age', 'bats_L', 'bats_R', 'bats_B','throws', 'position_0.0', 'position_1.0',\n",
        "       'position_2.0', 'position_3.0', 'position_4.0', 'position_5.0',\n",
        "       'position_6.0', 'position_7.0', 'position_8.0', 'position_9.0',\n",
        "            'prev_year_pitches_played_in_field', 'prev_year_tto', 'prev_year_pa', 'pa']].dropna()\n",
        "\n",
        "#filter pitchers out of our batting df\n",
        "data_batting_short = data_batting_short[data_batting_short['position_1.0'] != True]\n",
        "\n",
        "\n",
        "data_pitching_short = data[['player','weight', 'height', 'age', 'throws', 'prev_year_pitches_thrown',\n",
        "            'prev_year_fastball_avg_velo', 'prev_year_bf',\n",
        "                            'prev_year_pct_relief', 'bf', 'position_1.0']].dropna()"
      ],
      "metadata": {
        "id": "rAfMg4VMP1sX"
      },
      "execution_count": 8,
      "outputs": []
    },
    {
      "cell_type": "code",
      "source": [
        "#split dataset into features and target\n",
        "X_batting = data_batting_short[features_batting].dropna()\n",
        "y_batting = data_batting_short[target].dropna()\n",
        "\n",
        "\n",
        "X_pitching = data_pitching_short[features_pitching].dropna()\n",
        "y_pitching = data_pitching_short[target_pitching]"
      ],
      "metadata": {
        "id": "f1oEvp6CQKV1"
      },
      "execution_count": 9,
      "outputs": []
    },
    {
      "cell_type": "code",
      "source": [
        "# Train-test split with 25% test size\n",
        "X_train_batting, X_test_batting, y_train_batting, y_test_batting = train_test_split(X_batting, y_batting, test_size=0.25, random_state=33)\n",
        "X_train_pitching, X_test_pitching, y_train_pitching, y_test_pitching = train_test_split(X_pitching, y_pitching, test_size=0.25, random_state=42)\n",
        "\n",
        "# Check the shapes to confirm the split\n",
        "print('BATTING')\n",
        "print(f\"X_train shape: {X_train_batting.shape}\")\n",
        "print(f\"X_test shape: {X_test_batting.shape}\")\n",
        "print(f\"y_train shape: {y_train_batting.shape}\")\n",
        "print(f\"y_test shape: {y_test_batting.shape}\")\n",
        "\n",
        "print('PITCHING')\n",
        "print(f\"X_train shape: {X_train_pitching.shape}\")\n",
        "print(f\"X_test shape: {X_test_pitching.shape}\")\n",
        "print(f\"y_train shape: {y_train_pitching.shape}\")\n",
        "print(f\"y_test shape: {y_test_pitching.shape}\")"
      ],
      "metadata": {
        "colab": {
          "base_uri": "https://localhost:8080/"
        },
        "id": "s1ui_KbjP_UA",
        "outputId": "1d793186-5568-485f-e9a1-fd5025351aa8"
      },
      "execution_count": 10,
      "outputs": [
        {
          "output_type": "stream",
          "name": "stdout",
          "text": [
            "BATTING\n",
            "X_train shape: (744, 19)\n",
            "X_test shape: (249, 19)\n",
            "y_train shape: (744, 1)\n",
            "y_test shape: (249, 1)\n",
            "PITCHING\n",
            "X_train shape: (884, 7)\n",
            "X_test shape: (295, 7)\n",
            "y_train shape: (884, 1)\n",
            "y_test shape: (295, 1)\n"
          ]
        }
      ]
    },
    {
      "cell_type": "markdown",
      "source": [
        "### Hyperparameter grid search\n",
        "We then build a hyperparameter grid search for both batters and pitchers. We refined our hyperparameter grids many times over, continuously improving it until we ended up with reasonable values."
      ],
      "metadata": {
        "id": "IkI_d0AyQ1W0"
      }
    },
    {
      "cell_type": "code",
      "source": [
        "# Define the hyperparameter grid for our batting model\n",
        "param_grid_batting = {\n",
        "    'n_estimators': [35, 50],\n",
        "    'max_depth': [3, 5, 7 , 9],\n",
        "    'min_samples_split': [2, 3],\n",
        "    'min_samples_leaf': [3],\n",
        "}\n",
        "\n",
        "rf_model_batting = RandomForestRegressor(random_state=42)\n",
        "\n",
        "# Initialize GridSearchCV object\n",
        "grid_search = GridSearchCV(estimator=rf_model_batting, param_grid=param_grid_batting,\n",
        "                           cv=5, n_jobs=-1, scoring='neg_mean_squared_error', verbose=2)\n",
        "\n",
        "# Fit GridSearchCV\n",
        "grid_search.fit(X_train_batting, y_train_batting.values.ravel())"
      ],
      "metadata": {
        "colab": {
          "base_uri": "https://localhost:8080/",
          "height": 181
        },
        "id": "aENBv-vtRZXK",
        "outputId": "03f1ec14-8ba6-4378-b02c-40cf9dc69f67"
      },
      "execution_count": 11,
      "outputs": [
        {
          "output_type": "stream",
          "name": "stdout",
          "text": [
            "Fitting 5 folds for each of 16 candidates, totalling 80 fits\n"
          ]
        },
        {
          "output_type": "execute_result",
          "data": {
            "text/plain": [
              "GridSearchCV(cv=5, estimator=RandomForestRegressor(random_state=42), n_jobs=-1,\n",
              "             param_grid={'max_depth': [3, 5, 7, 9], 'min_samples_leaf': [3],\n",
              "                         'min_samples_split': [2, 3],\n",
              "                         'n_estimators': [35, 50]},\n",
              "             scoring='neg_mean_squared_error', verbose=2)"
            ],
            "text/html": [
              "<style>#sk-container-id-1 {\n",
              "  /* Definition of color scheme common for light and dark mode */\n",
              "  --sklearn-color-text: #000;\n",
              "  --sklearn-color-text-muted: #666;\n",
              "  --sklearn-color-line: gray;\n",
              "  /* Definition of color scheme for unfitted estimators */\n",
              "  --sklearn-color-unfitted-level-0: #fff5e6;\n",
              "  --sklearn-color-unfitted-level-1: #f6e4d2;\n",
              "  --sklearn-color-unfitted-level-2: #ffe0b3;\n",
              "  --sklearn-color-unfitted-level-3: chocolate;\n",
              "  /* Definition of color scheme for fitted estimators */\n",
              "  --sklearn-color-fitted-level-0: #f0f8ff;\n",
              "  --sklearn-color-fitted-level-1: #d4ebff;\n",
              "  --sklearn-color-fitted-level-2: #b3dbfd;\n",
              "  --sklearn-color-fitted-level-3: cornflowerblue;\n",
              "\n",
              "  /* Specific color for light theme */\n",
              "  --sklearn-color-text-on-default-background: var(--sg-text-color, var(--theme-code-foreground, var(--jp-content-font-color1, black)));\n",
              "  --sklearn-color-background: var(--sg-background-color, var(--theme-background, var(--jp-layout-color0, white)));\n",
              "  --sklearn-color-border-box: var(--sg-text-color, var(--theme-code-foreground, var(--jp-content-font-color1, black)));\n",
              "  --sklearn-color-icon: #696969;\n",
              "\n",
              "  @media (prefers-color-scheme: dark) {\n",
              "    /* Redefinition of color scheme for dark theme */\n",
              "    --sklearn-color-text-on-default-background: var(--sg-text-color, var(--theme-code-foreground, var(--jp-content-font-color1, white)));\n",
              "    --sklearn-color-background: var(--sg-background-color, var(--theme-background, var(--jp-layout-color0, #111)));\n",
              "    --sklearn-color-border-box: var(--sg-text-color, var(--theme-code-foreground, var(--jp-content-font-color1, white)));\n",
              "    --sklearn-color-icon: #878787;\n",
              "  }\n",
              "}\n",
              "\n",
              "#sk-container-id-1 {\n",
              "  color: var(--sklearn-color-text);\n",
              "}\n",
              "\n",
              "#sk-container-id-1 pre {\n",
              "  padding: 0;\n",
              "}\n",
              "\n",
              "#sk-container-id-1 input.sk-hidden--visually {\n",
              "  border: 0;\n",
              "  clip: rect(1px 1px 1px 1px);\n",
              "  clip: rect(1px, 1px, 1px, 1px);\n",
              "  height: 1px;\n",
              "  margin: -1px;\n",
              "  overflow: hidden;\n",
              "  padding: 0;\n",
              "  position: absolute;\n",
              "  width: 1px;\n",
              "}\n",
              "\n",
              "#sk-container-id-1 div.sk-dashed-wrapped {\n",
              "  border: 1px dashed var(--sklearn-color-line);\n",
              "  margin: 0 0.4em 0.5em 0.4em;\n",
              "  box-sizing: border-box;\n",
              "  padding-bottom: 0.4em;\n",
              "  background-color: var(--sklearn-color-background);\n",
              "}\n",
              "\n",
              "#sk-container-id-1 div.sk-container {\n",
              "  /* jupyter's `normalize.less` sets `[hidden] { display: none; }`\n",
              "     but bootstrap.min.css set `[hidden] { display: none !important; }`\n",
              "     so we also need the `!important` here to be able to override the\n",
              "     default hidden behavior on the sphinx rendered scikit-learn.org.\n",
              "     See: https://github.com/scikit-learn/scikit-learn/issues/21755 */\n",
              "  display: inline-block !important;\n",
              "  position: relative;\n",
              "}\n",
              "\n",
              "#sk-container-id-1 div.sk-text-repr-fallback {\n",
              "  display: none;\n",
              "}\n",
              "\n",
              "div.sk-parallel-item,\n",
              "div.sk-serial,\n",
              "div.sk-item {\n",
              "  /* draw centered vertical line to link estimators */\n",
              "  background-image: linear-gradient(var(--sklearn-color-text-on-default-background), var(--sklearn-color-text-on-default-background));\n",
              "  background-size: 2px 100%;\n",
              "  background-repeat: no-repeat;\n",
              "  background-position: center center;\n",
              "}\n",
              "\n",
              "/* Parallel-specific style estimator block */\n",
              "\n",
              "#sk-container-id-1 div.sk-parallel-item::after {\n",
              "  content: \"\";\n",
              "  width: 100%;\n",
              "  border-bottom: 2px solid var(--sklearn-color-text-on-default-background);\n",
              "  flex-grow: 1;\n",
              "}\n",
              "\n",
              "#sk-container-id-1 div.sk-parallel {\n",
              "  display: flex;\n",
              "  align-items: stretch;\n",
              "  justify-content: center;\n",
              "  background-color: var(--sklearn-color-background);\n",
              "  position: relative;\n",
              "}\n",
              "\n",
              "#sk-container-id-1 div.sk-parallel-item {\n",
              "  display: flex;\n",
              "  flex-direction: column;\n",
              "}\n",
              "\n",
              "#sk-container-id-1 div.sk-parallel-item:first-child::after {\n",
              "  align-self: flex-end;\n",
              "  width: 50%;\n",
              "}\n",
              "\n",
              "#sk-container-id-1 div.sk-parallel-item:last-child::after {\n",
              "  align-self: flex-start;\n",
              "  width: 50%;\n",
              "}\n",
              "\n",
              "#sk-container-id-1 div.sk-parallel-item:only-child::after {\n",
              "  width: 0;\n",
              "}\n",
              "\n",
              "/* Serial-specific style estimator block */\n",
              "\n",
              "#sk-container-id-1 div.sk-serial {\n",
              "  display: flex;\n",
              "  flex-direction: column;\n",
              "  align-items: center;\n",
              "  background-color: var(--sklearn-color-background);\n",
              "  padding-right: 1em;\n",
              "  padding-left: 1em;\n",
              "}\n",
              "\n",
              "\n",
              "/* Toggleable style: style used for estimator/Pipeline/ColumnTransformer box that is\n",
              "clickable and can be expanded/collapsed.\n",
              "- Pipeline and ColumnTransformer use this feature and define the default style\n",
              "- Estimators will overwrite some part of the style using the `sk-estimator` class\n",
              "*/\n",
              "\n",
              "/* Pipeline and ColumnTransformer style (default) */\n",
              "\n",
              "#sk-container-id-1 div.sk-toggleable {\n",
              "  /* Default theme specific background. It is overwritten whether we have a\n",
              "  specific estimator or a Pipeline/ColumnTransformer */\n",
              "  background-color: var(--sklearn-color-background);\n",
              "}\n",
              "\n",
              "/* Toggleable label */\n",
              "#sk-container-id-1 label.sk-toggleable__label {\n",
              "  cursor: pointer;\n",
              "  display: flex;\n",
              "  width: 100%;\n",
              "  margin-bottom: 0;\n",
              "  padding: 0.5em;\n",
              "  box-sizing: border-box;\n",
              "  text-align: center;\n",
              "  align-items: start;\n",
              "  justify-content: space-between;\n",
              "  gap: 0.5em;\n",
              "}\n",
              "\n",
              "#sk-container-id-1 label.sk-toggleable__label .caption {\n",
              "  font-size: 0.6rem;\n",
              "  font-weight: lighter;\n",
              "  color: var(--sklearn-color-text-muted);\n",
              "}\n",
              "\n",
              "#sk-container-id-1 label.sk-toggleable__label-arrow:before {\n",
              "  /* Arrow on the left of the label */\n",
              "  content: \"▸\";\n",
              "  float: left;\n",
              "  margin-right: 0.25em;\n",
              "  color: var(--sklearn-color-icon);\n",
              "}\n",
              "\n",
              "#sk-container-id-1 label.sk-toggleable__label-arrow:hover:before {\n",
              "  color: var(--sklearn-color-text);\n",
              "}\n",
              "\n",
              "/* Toggleable content - dropdown */\n",
              "\n",
              "#sk-container-id-1 div.sk-toggleable__content {\n",
              "  max-height: 0;\n",
              "  max-width: 0;\n",
              "  overflow: hidden;\n",
              "  text-align: left;\n",
              "  /* unfitted */\n",
              "  background-color: var(--sklearn-color-unfitted-level-0);\n",
              "}\n",
              "\n",
              "#sk-container-id-1 div.sk-toggleable__content.fitted {\n",
              "  /* fitted */\n",
              "  background-color: var(--sklearn-color-fitted-level-0);\n",
              "}\n",
              "\n",
              "#sk-container-id-1 div.sk-toggleable__content pre {\n",
              "  margin: 0.2em;\n",
              "  border-radius: 0.25em;\n",
              "  color: var(--sklearn-color-text);\n",
              "  /* unfitted */\n",
              "  background-color: var(--sklearn-color-unfitted-level-0);\n",
              "}\n",
              "\n",
              "#sk-container-id-1 div.sk-toggleable__content.fitted pre {\n",
              "  /* unfitted */\n",
              "  background-color: var(--sklearn-color-fitted-level-0);\n",
              "}\n",
              "\n",
              "#sk-container-id-1 input.sk-toggleable__control:checked~div.sk-toggleable__content {\n",
              "  /* Expand drop-down */\n",
              "  max-height: 200px;\n",
              "  max-width: 100%;\n",
              "  overflow: auto;\n",
              "}\n",
              "\n",
              "#sk-container-id-1 input.sk-toggleable__control:checked~label.sk-toggleable__label-arrow:before {\n",
              "  content: \"▾\";\n",
              "}\n",
              "\n",
              "/* Pipeline/ColumnTransformer-specific style */\n",
              "\n",
              "#sk-container-id-1 div.sk-label input.sk-toggleable__control:checked~label.sk-toggleable__label {\n",
              "  color: var(--sklearn-color-text);\n",
              "  background-color: var(--sklearn-color-unfitted-level-2);\n",
              "}\n",
              "\n",
              "#sk-container-id-1 div.sk-label.fitted input.sk-toggleable__control:checked~label.sk-toggleable__label {\n",
              "  background-color: var(--sklearn-color-fitted-level-2);\n",
              "}\n",
              "\n",
              "/* Estimator-specific style */\n",
              "\n",
              "/* Colorize estimator box */\n",
              "#sk-container-id-1 div.sk-estimator input.sk-toggleable__control:checked~label.sk-toggleable__label {\n",
              "  /* unfitted */\n",
              "  background-color: var(--sklearn-color-unfitted-level-2);\n",
              "}\n",
              "\n",
              "#sk-container-id-1 div.sk-estimator.fitted input.sk-toggleable__control:checked~label.sk-toggleable__label {\n",
              "  /* fitted */\n",
              "  background-color: var(--sklearn-color-fitted-level-2);\n",
              "}\n",
              "\n",
              "#sk-container-id-1 div.sk-label label.sk-toggleable__label,\n",
              "#sk-container-id-1 div.sk-label label {\n",
              "  /* The background is the default theme color */\n",
              "  color: var(--sklearn-color-text-on-default-background);\n",
              "}\n",
              "\n",
              "/* On hover, darken the color of the background */\n",
              "#sk-container-id-1 div.sk-label:hover label.sk-toggleable__label {\n",
              "  color: var(--sklearn-color-text);\n",
              "  background-color: var(--sklearn-color-unfitted-level-2);\n",
              "}\n",
              "\n",
              "/* Label box, darken color on hover, fitted */\n",
              "#sk-container-id-1 div.sk-label.fitted:hover label.sk-toggleable__label.fitted {\n",
              "  color: var(--sklearn-color-text);\n",
              "  background-color: var(--sklearn-color-fitted-level-2);\n",
              "}\n",
              "\n",
              "/* Estimator label */\n",
              "\n",
              "#sk-container-id-1 div.sk-label label {\n",
              "  font-family: monospace;\n",
              "  font-weight: bold;\n",
              "  display: inline-block;\n",
              "  line-height: 1.2em;\n",
              "}\n",
              "\n",
              "#sk-container-id-1 div.sk-label-container {\n",
              "  text-align: center;\n",
              "}\n",
              "\n",
              "/* Estimator-specific */\n",
              "#sk-container-id-1 div.sk-estimator {\n",
              "  font-family: monospace;\n",
              "  border: 1px dotted var(--sklearn-color-border-box);\n",
              "  border-radius: 0.25em;\n",
              "  box-sizing: border-box;\n",
              "  margin-bottom: 0.5em;\n",
              "  /* unfitted */\n",
              "  background-color: var(--sklearn-color-unfitted-level-0);\n",
              "}\n",
              "\n",
              "#sk-container-id-1 div.sk-estimator.fitted {\n",
              "  /* fitted */\n",
              "  background-color: var(--sklearn-color-fitted-level-0);\n",
              "}\n",
              "\n",
              "/* on hover */\n",
              "#sk-container-id-1 div.sk-estimator:hover {\n",
              "  /* unfitted */\n",
              "  background-color: var(--sklearn-color-unfitted-level-2);\n",
              "}\n",
              "\n",
              "#sk-container-id-1 div.sk-estimator.fitted:hover {\n",
              "  /* fitted */\n",
              "  background-color: var(--sklearn-color-fitted-level-2);\n",
              "}\n",
              "\n",
              "/* Specification for estimator info (e.g. \"i\" and \"?\") */\n",
              "\n",
              "/* Common style for \"i\" and \"?\" */\n",
              "\n",
              ".sk-estimator-doc-link,\n",
              "a:link.sk-estimator-doc-link,\n",
              "a:visited.sk-estimator-doc-link {\n",
              "  float: right;\n",
              "  font-size: smaller;\n",
              "  line-height: 1em;\n",
              "  font-family: monospace;\n",
              "  background-color: var(--sklearn-color-background);\n",
              "  border-radius: 1em;\n",
              "  height: 1em;\n",
              "  width: 1em;\n",
              "  text-decoration: none !important;\n",
              "  margin-left: 0.5em;\n",
              "  text-align: center;\n",
              "  /* unfitted */\n",
              "  border: var(--sklearn-color-unfitted-level-1) 1pt solid;\n",
              "  color: var(--sklearn-color-unfitted-level-1);\n",
              "}\n",
              "\n",
              ".sk-estimator-doc-link.fitted,\n",
              "a:link.sk-estimator-doc-link.fitted,\n",
              "a:visited.sk-estimator-doc-link.fitted {\n",
              "  /* fitted */\n",
              "  border: var(--sklearn-color-fitted-level-1) 1pt solid;\n",
              "  color: var(--sklearn-color-fitted-level-1);\n",
              "}\n",
              "\n",
              "/* On hover */\n",
              "div.sk-estimator:hover .sk-estimator-doc-link:hover,\n",
              ".sk-estimator-doc-link:hover,\n",
              "div.sk-label-container:hover .sk-estimator-doc-link:hover,\n",
              ".sk-estimator-doc-link:hover {\n",
              "  /* unfitted */\n",
              "  background-color: var(--sklearn-color-unfitted-level-3);\n",
              "  color: var(--sklearn-color-background);\n",
              "  text-decoration: none;\n",
              "}\n",
              "\n",
              "div.sk-estimator.fitted:hover .sk-estimator-doc-link.fitted:hover,\n",
              ".sk-estimator-doc-link.fitted:hover,\n",
              "div.sk-label-container:hover .sk-estimator-doc-link.fitted:hover,\n",
              ".sk-estimator-doc-link.fitted:hover {\n",
              "  /* fitted */\n",
              "  background-color: var(--sklearn-color-fitted-level-3);\n",
              "  color: var(--sklearn-color-background);\n",
              "  text-decoration: none;\n",
              "}\n",
              "\n",
              "/* Span, style for the box shown on hovering the info icon */\n",
              ".sk-estimator-doc-link span {\n",
              "  display: none;\n",
              "  z-index: 9999;\n",
              "  position: relative;\n",
              "  font-weight: normal;\n",
              "  right: .2ex;\n",
              "  padding: .5ex;\n",
              "  margin: .5ex;\n",
              "  width: min-content;\n",
              "  min-width: 20ex;\n",
              "  max-width: 50ex;\n",
              "  color: var(--sklearn-color-text);\n",
              "  box-shadow: 2pt 2pt 4pt #999;\n",
              "  /* unfitted */\n",
              "  background: var(--sklearn-color-unfitted-level-0);\n",
              "  border: .5pt solid var(--sklearn-color-unfitted-level-3);\n",
              "}\n",
              "\n",
              ".sk-estimator-doc-link.fitted span {\n",
              "  /* fitted */\n",
              "  background: var(--sklearn-color-fitted-level-0);\n",
              "  border: var(--sklearn-color-fitted-level-3);\n",
              "}\n",
              "\n",
              ".sk-estimator-doc-link:hover span {\n",
              "  display: block;\n",
              "}\n",
              "\n",
              "/* \"?\"-specific style due to the `<a>` HTML tag */\n",
              "\n",
              "#sk-container-id-1 a.estimator_doc_link {\n",
              "  float: right;\n",
              "  font-size: 1rem;\n",
              "  line-height: 1em;\n",
              "  font-family: monospace;\n",
              "  background-color: var(--sklearn-color-background);\n",
              "  border-radius: 1rem;\n",
              "  height: 1rem;\n",
              "  width: 1rem;\n",
              "  text-decoration: none;\n",
              "  /* unfitted */\n",
              "  color: var(--sklearn-color-unfitted-level-1);\n",
              "  border: var(--sklearn-color-unfitted-level-1) 1pt solid;\n",
              "}\n",
              "\n",
              "#sk-container-id-1 a.estimator_doc_link.fitted {\n",
              "  /* fitted */\n",
              "  border: var(--sklearn-color-fitted-level-1) 1pt solid;\n",
              "  color: var(--sklearn-color-fitted-level-1);\n",
              "}\n",
              "\n",
              "/* On hover */\n",
              "#sk-container-id-1 a.estimator_doc_link:hover {\n",
              "  /* unfitted */\n",
              "  background-color: var(--sklearn-color-unfitted-level-3);\n",
              "  color: var(--sklearn-color-background);\n",
              "  text-decoration: none;\n",
              "}\n",
              "\n",
              "#sk-container-id-1 a.estimator_doc_link.fitted:hover {\n",
              "  /* fitted */\n",
              "  background-color: var(--sklearn-color-fitted-level-3);\n",
              "}\n",
              "</style><div id=\"sk-container-id-1\" class=\"sk-top-container\"><div class=\"sk-text-repr-fallback\"><pre>GridSearchCV(cv=5, estimator=RandomForestRegressor(random_state=42), n_jobs=-1,\n",
              "             param_grid={&#x27;max_depth&#x27;: [3, 5, 7, 9], &#x27;min_samples_leaf&#x27;: [3],\n",
              "                         &#x27;min_samples_split&#x27;: [2, 3],\n",
              "                         &#x27;n_estimators&#x27;: [35, 50]},\n",
              "             scoring=&#x27;neg_mean_squared_error&#x27;, verbose=2)</pre><b>In a Jupyter environment, please rerun this cell to show the HTML representation or trust the notebook. <br />On GitHub, the HTML representation is unable to render, please try loading this page with nbviewer.org.</b></div><div class=\"sk-container\" hidden><div class=\"sk-item sk-dashed-wrapped\"><div class=\"sk-label-container\"><div class=\"sk-label fitted sk-toggleable\"><input class=\"sk-toggleable__control sk-hidden--visually\" id=\"sk-estimator-id-1\" type=\"checkbox\" ><label for=\"sk-estimator-id-1\" class=\"sk-toggleable__label fitted sk-toggleable__label-arrow\"><div><div>GridSearchCV</div></div><div><a class=\"sk-estimator-doc-link fitted\" rel=\"noreferrer\" target=\"_blank\" href=\"https://scikit-learn.org/1.6/modules/generated/sklearn.model_selection.GridSearchCV.html\">?<span>Documentation for GridSearchCV</span></a><span class=\"sk-estimator-doc-link fitted\">i<span>Fitted</span></span></div></label><div class=\"sk-toggleable__content fitted\"><pre>GridSearchCV(cv=5, estimator=RandomForestRegressor(random_state=42), n_jobs=-1,\n",
              "             param_grid={&#x27;max_depth&#x27;: [3, 5, 7, 9], &#x27;min_samples_leaf&#x27;: [3],\n",
              "                         &#x27;min_samples_split&#x27;: [2, 3],\n",
              "                         &#x27;n_estimators&#x27;: [35, 50]},\n",
              "             scoring=&#x27;neg_mean_squared_error&#x27;, verbose=2)</pre></div> </div></div><div class=\"sk-parallel\"><div class=\"sk-parallel-item\"><div class=\"sk-item\"><div class=\"sk-label-container\"><div class=\"sk-label fitted sk-toggleable\"><input class=\"sk-toggleable__control sk-hidden--visually\" id=\"sk-estimator-id-2\" type=\"checkbox\" ><label for=\"sk-estimator-id-2\" class=\"sk-toggleable__label fitted sk-toggleable__label-arrow\"><div><div>best_estimator_: RandomForestRegressor</div></div></label><div class=\"sk-toggleable__content fitted\"><pre>RandomForestRegressor(max_depth=3, min_samples_leaf=3, n_estimators=35,\n",
              "                      random_state=42)</pre></div> </div></div><div class=\"sk-serial\"><div class=\"sk-item\"><div class=\"sk-estimator fitted sk-toggleable\"><input class=\"sk-toggleable__control sk-hidden--visually\" id=\"sk-estimator-id-3\" type=\"checkbox\" ><label for=\"sk-estimator-id-3\" class=\"sk-toggleable__label fitted sk-toggleable__label-arrow\"><div><div>RandomForestRegressor</div></div><div><a class=\"sk-estimator-doc-link fitted\" rel=\"noreferrer\" target=\"_blank\" href=\"https://scikit-learn.org/1.6/modules/generated/sklearn.ensemble.RandomForestRegressor.html\">?<span>Documentation for RandomForestRegressor</span></a></div></label><div class=\"sk-toggleable__content fitted\"><pre>RandomForestRegressor(max_depth=3, min_samples_leaf=3, n_estimators=35,\n",
              "                      random_state=42)</pre></div> </div></div></div></div></div></div></div></div></div>"
            ]
          },
          "metadata": {},
          "execution_count": 11
        }
      ]
    },
    {
      "cell_type": "code",
      "source": [
        "# Best hyperparameters\n",
        "print(f\"Best Parameters for batting grid search: {grid_search.best_params_}\")\n",
        "\n",
        "# Best MSE score\n",
        "best_mse = -grid_search.best_score_  # Convert back from negative MSE\n",
        "print(f\"Best Cross-Validated MSE: {best_mse}\")"
      ],
      "metadata": {
        "colab": {
          "base_uri": "https://localhost:8080/"
        },
        "id": "dnK3W3SVR7B6",
        "outputId": "3f59af34-2660-4c80-98ad-6e56db263c53"
      },
      "execution_count": 12,
      "outputs": [
        {
          "output_type": "stream",
          "name": "stdout",
          "text": [
            "Best Parameters for batting grid search: {'max_depth': 3, 'min_samples_leaf': 3, 'min_samples_split': 2, 'n_estimators': 35}\n",
            "Best Cross-Validated MSE: 25330.703724758383\n"
          ]
        }
      ]
    },
    {
      "cell_type": "code",
      "source": [
        "# Define the hyperparameter grid for pitching\n",
        "param_grid_pitching = {\n",
        "    'n_estimators': [15, 20],\n",
        "    'max_depth': [3, 5, 7],\n",
        "    'min_samples_split': [2, 3],\n",
        "    'min_samples_leaf': [2,3],\n",
        "}\n",
        "rf_model_pitching = RandomForestRegressor(random_state=42)\n",
        "\n",
        "# Initialize GridSearchCV\n",
        "grid_search_pitching = GridSearchCV(estimator=rf_model_pitching, param_grid=param_grid_pitching,\n",
        "                           cv=5, n_jobs=-1, scoring='neg_mean_squared_error', verbose=2)\n",
        "\n",
        "# Fit GridSearchCV\n",
        "grid_search_pitching.fit(X_train_pitching, y_train_pitching.values.ravel())\n"
      ],
      "metadata": {
        "colab": {
          "base_uri": "https://localhost:8080/",
          "height": 181
        },
        "id": "5zllcAAHSLQ1",
        "outputId": "3a71ee44-bda6-4f60-ee37-1df9fa03be57"
      },
      "execution_count": 13,
      "outputs": [
        {
          "output_type": "stream",
          "name": "stdout",
          "text": [
            "Fitting 5 folds for each of 24 candidates, totalling 120 fits\n"
          ]
        },
        {
          "output_type": "execute_result",
          "data": {
            "text/plain": [
              "GridSearchCV(cv=5, estimator=RandomForestRegressor(random_state=42), n_jobs=-1,\n",
              "             param_grid={'max_depth': [3, 5, 7], 'min_samples_leaf': [2, 3],\n",
              "                         'min_samples_split': [2, 3],\n",
              "                         'n_estimators': [15, 20]},\n",
              "             scoring='neg_mean_squared_error', verbose=2)"
            ],
            "text/html": [
              "<style>#sk-container-id-2 {\n",
              "  /* Definition of color scheme common for light and dark mode */\n",
              "  --sklearn-color-text: #000;\n",
              "  --sklearn-color-text-muted: #666;\n",
              "  --sklearn-color-line: gray;\n",
              "  /* Definition of color scheme for unfitted estimators */\n",
              "  --sklearn-color-unfitted-level-0: #fff5e6;\n",
              "  --sklearn-color-unfitted-level-1: #f6e4d2;\n",
              "  --sklearn-color-unfitted-level-2: #ffe0b3;\n",
              "  --sklearn-color-unfitted-level-3: chocolate;\n",
              "  /* Definition of color scheme for fitted estimators */\n",
              "  --sklearn-color-fitted-level-0: #f0f8ff;\n",
              "  --sklearn-color-fitted-level-1: #d4ebff;\n",
              "  --sklearn-color-fitted-level-2: #b3dbfd;\n",
              "  --sklearn-color-fitted-level-3: cornflowerblue;\n",
              "\n",
              "  /* Specific color for light theme */\n",
              "  --sklearn-color-text-on-default-background: var(--sg-text-color, var(--theme-code-foreground, var(--jp-content-font-color1, black)));\n",
              "  --sklearn-color-background: var(--sg-background-color, var(--theme-background, var(--jp-layout-color0, white)));\n",
              "  --sklearn-color-border-box: var(--sg-text-color, var(--theme-code-foreground, var(--jp-content-font-color1, black)));\n",
              "  --sklearn-color-icon: #696969;\n",
              "\n",
              "  @media (prefers-color-scheme: dark) {\n",
              "    /* Redefinition of color scheme for dark theme */\n",
              "    --sklearn-color-text-on-default-background: var(--sg-text-color, var(--theme-code-foreground, var(--jp-content-font-color1, white)));\n",
              "    --sklearn-color-background: var(--sg-background-color, var(--theme-background, var(--jp-layout-color0, #111)));\n",
              "    --sklearn-color-border-box: var(--sg-text-color, var(--theme-code-foreground, var(--jp-content-font-color1, white)));\n",
              "    --sklearn-color-icon: #878787;\n",
              "  }\n",
              "}\n",
              "\n",
              "#sk-container-id-2 {\n",
              "  color: var(--sklearn-color-text);\n",
              "}\n",
              "\n",
              "#sk-container-id-2 pre {\n",
              "  padding: 0;\n",
              "}\n",
              "\n",
              "#sk-container-id-2 input.sk-hidden--visually {\n",
              "  border: 0;\n",
              "  clip: rect(1px 1px 1px 1px);\n",
              "  clip: rect(1px, 1px, 1px, 1px);\n",
              "  height: 1px;\n",
              "  margin: -1px;\n",
              "  overflow: hidden;\n",
              "  padding: 0;\n",
              "  position: absolute;\n",
              "  width: 1px;\n",
              "}\n",
              "\n",
              "#sk-container-id-2 div.sk-dashed-wrapped {\n",
              "  border: 1px dashed var(--sklearn-color-line);\n",
              "  margin: 0 0.4em 0.5em 0.4em;\n",
              "  box-sizing: border-box;\n",
              "  padding-bottom: 0.4em;\n",
              "  background-color: var(--sklearn-color-background);\n",
              "}\n",
              "\n",
              "#sk-container-id-2 div.sk-container {\n",
              "  /* jupyter's `normalize.less` sets `[hidden] { display: none; }`\n",
              "     but bootstrap.min.css set `[hidden] { display: none !important; }`\n",
              "     so we also need the `!important` here to be able to override the\n",
              "     default hidden behavior on the sphinx rendered scikit-learn.org.\n",
              "     See: https://github.com/scikit-learn/scikit-learn/issues/21755 */\n",
              "  display: inline-block !important;\n",
              "  position: relative;\n",
              "}\n",
              "\n",
              "#sk-container-id-2 div.sk-text-repr-fallback {\n",
              "  display: none;\n",
              "}\n",
              "\n",
              "div.sk-parallel-item,\n",
              "div.sk-serial,\n",
              "div.sk-item {\n",
              "  /* draw centered vertical line to link estimators */\n",
              "  background-image: linear-gradient(var(--sklearn-color-text-on-default-background), var(--sklearn-color-text-on-default-background));\n",
              "  background-size: 2px 100%;\n",
              "  background-repeat: no-repeat;\n",
              "  background-position: center center;\n",
              "}\n",
              "\n",
              "/* Parallel-specific style estimator block */\n",
              "\n",
              "#sk-container-id-2 div.sk-parallel-item::after {\n",
              "  content: \"\";\n",
              "  width: 100%;\n",
              "  border-bottom: 2px solid var(--sklearn-color-text-on-default-background);\n",
              "  flex-grow: 1;\n",
              "}\n",
              "\n",
              "#sk-container-id-2 div.sk-parallel {\n",
              "  display: flex;\n",
              "  align-items: stretch;\n",
              "  justify-content: center;\n",
              "  background-color: var(--sklearn-color-background);\n",
              "  position: relative;\n",
              "}\n",
              "\n",
              "#sk-container-id-2 div.sk-parallel-item {\n",
              "  display: flex;\n",
              "  flex-direction: column;\n",
              "}\n",
              "\n",
              "#sk-container-id-2 div.sk-parallel-item:first-child::after {\n",
              "  align-self: flex-end;\n",
              "  width: 50%;\n",
              "}\n",
              "\n",
              "#sk-container-id-2 div.sk-parallel-item:last-child::after {\n",
              "  align-self: flex-start;\n",
              "  width: 50%;\n",
              "}\n",
              "\n",
              "#sk-container-id-2 div.sk-parallel-item:only-child::after {\n",
              "  width: 0;\n",
              "}\n",
              "\n",
              "/* Serial-specific style estimator block */\n",
              "\n",
              "#sk-container-id-2 div.sk-serial {\n",
              "  display: flex;\n",
              "  flex-direction: column;\n",
              "  align-items: center;\n",
              "  background-color: var(--sklearn-color-background);\n",
              "  padding-right: 1em;\n",
              "  padding-left: 1em;\n",
              "}\n",
              "\n",
              "\n",
              "/* Toggleable style: style used for estimator/Pipeline/ColumnTransformer box that is\n",
              "clickable and can be expanded/collapsed.\n",
              "- Pipeline and ColumnTransformer use this feature and define the default style\n",
              "- Estimators will overwrite some part of the style using the `sk-estimator` class\n",
              "*/\n",
              "\n",
              "/* Pipeline and ColumnTransformer style (default) */\n",
              "\n",
              "#sk-container-id-2 div.sk-toggleable {\n",
              "  /* Default theme specific background. It is overwritten whether we have a\n",
              "  specific estimator or a Pipeline/ColumnTransformer */\n",
              "  background-color: var(--sklearn-color-background);\n",
              "}\n",
              "\n",
              "/* Toggleable label */\n",
              "#sk-container-id-2 label.sk-toggleable__label {\n",
              "  cursor: pointer;\n",
              "  display: flex;\n",
              "  width: 100%;\n",
              "  margin-bottom: 0;\n",
              "  padding: 0.5em;\n",
              "  box-sizing: border-box;\n",
              "  text-align: center;\n",
              "  align-items: start;\n",
              "  justify-content: space-between;\n",
              "  gap: 0.5em;\n",
              "}\n",
              "\n",
              "#sk-container-id-2 label.sk-toggleable__label .caption {\n",
              "  font-size: 0.6rem;\n",
              "  font-weight: lighter;\n",
              "  color: var(--sklearn-color-text-muted);\n",
              "}\n",
              "\n",
              "#sk-container-id-2 label.sk-toggleable__label-arrow:before {\n",
              "  /* Arrow on the left of the label */\n",
              "  content: \"▸\";\n",
              "  float: left;\n",
              "  margin-right: 0.25em;\n",
              "  color: var(--sklearn-color-icon);\n",
              "}\n",
              "\n",
              "#sk-container-id-2 label.sk-toggleable__label-arrow:hover:before {\n",
              "  color: var(--sklearn-color-text);\n",
              "}\n",
              "\n",
              "/* Toggleable content - dropdown */\n",
              "\n",
              "#sk-container-id-2 div.sk-toggleable__content {\n",
              "  max-height: 0;\n",
              "  max-width: 0;\n",
              "  overflow: hidden;\n",
              "  text-align: left;\n",
              "  /* unfitted */\n",
              "  background-color: var(--sklearn-color-unfitted-level-0);\n",
              "}\n",
              "\n",
              "#sk-container-id-2 div.sk-toggleable__content.fitted {\n",
              "  /* fitted */\n",
              "  background-color: var(--sklearn-color-fitted-level-0);\n",
              "}\n",
              "\n",
              "#sk-container-id-2 div.sk-toggleable__content pre {\n",
              "  margin: 0.2em;\n",
              "  border-radius: 0.25em;\n",
              "  color: var(--sklearn-color-text);\n",
              "  /* unfitted */\n",
              "  background-color: var(--sklearn-color-unfitted-level-0);\n",
              "}\n",
              "\n",
              "#sk-container-id-2 div.sk-toggleable__content.fitted pre {\n",
              "  /* unfitted */\n",
              "  background-color: var(--sklearn-color-fitted-level-0);\n",
              "}\n",
              "\n",
              "#sk-container-id-2 input.sk-toggleable__control:checked~div.sk-toggleable__content {\n",
              "  /* Expand drop-down */\n",
              "  max-height: 200px;\n",
              "  max-width: 100%;\n",
              "  overflow: auto;\n",
              "}\n",
              "\n",
              "#sk-container-id-2 input.sk-toggleable__control:checked~label.sk-toggleable__label-arrow:before {\n",
              "  content: \"▾\";\n",
              "}\n",
              "\n",
              "/* Pipeline/ColumnTransformer-specific style */\n",
              "\n",
              "#sk-container-id-2 div.sk-label input.sk-toggleable__control:checked~label.sk-toggleable__label {\n",
              "  color: var(--sklearn-color-text);\n",
              "  background-color: var(--sklearn-color-unfitted-level-2);\n",
              "}\n",
              "\n",
              "#sk-container-id-2 div.sk-label.fitted input.sk-toggleable__control:checked~label.sk-toggleable__label {\n",
              "  background-color: var(--sklearn-color-fitted-level-2);\n",
              "}\n",
              "\n",
              "/* Estimator-specific style */\n",
              "\n",
              "/* Colorize estimator box */\n",
              "#sk-container-id-2 div.sk-estimator input.sk-toggleable__control:checked~label.sk-toggleable__label {\n",
              "  /* unfitted */\n",
              "  background-color: var(--sklearn-color-unfitted-level-2);\n",
              "}\n",
              "\n",
              "#sk-container-id-2 div.sk-estimator.fitted input.sk-toggleable__control:checked~label.sk-toggleable__label {\n",
              "  /* fitted */\n",
              "  background-color: var(--sklearn-color-fitted-level-2);\n",
              "}\n",
              "\n",
              "#sk-container-id-2 div.sk-label label.sk-toggleable__label,\n",
              "#sk-container-id-2 div.sk-label label {\n",
              "  /* The background is the default theme color */\n",
              "  color: var(--sklearn-color-text-on-default-background);\n",
              "}\n",
              "\n",
              "/* On hover, darken the color of the background */\n",
              "#sk-container-id-2 div.sk-label:hover label.sk-toggleable__label {\n",
              "  color: var(--sklearn-color-text);\n",
              "  background-color: var(--sklearn-color-unfitted-level-2);\n",
              "}\n",
              "\n",
              "/* Label box, darken color on hover, fitted */\n",
              "#sk-container-id-2 div.sk-label.fitted:hover label.sk-toggleable__label.fitted {\n",
              "  color: var(--sklearn-color-text);\n",
              "  background-color: var(--sklearn-color-fitted-level-2);\n",
              "}\n",
              "\n",
              "/* Estimator label */\n",
              "\n",
              "#sk-container-id-2 div.sk-label label {\n",
              "  font-family: monospace;\n",
              "  font-weight: bold;\n",
              "  display: inline-block;\n",
              "  line-height: 1.2em;\n",
              "}\n",
              "\n",
              "#sk-container-id-2 div.sk-label-container {\n",
              "  text-align: center;\n",
              "}\n",
              "\n",
              "/* Estimator-specific */\n",
              "#sk-container-id-2 div.sk-estimator {\n",
              "  font-family: monospace;\n",
              "  border: 1px dotted var(--sklearn-color-border-box);\n",
              "  border-radius: 0.25em;\n",
              "  box-sizing: border-box;\n",
              "  margin-bottom: 0.5em;\n",
              "  /* unfitted */\n",
              "  background-color: var(--sklearn-color-unfitted-level-0);\n",
              "}\n",
              "\n",
              "#sk-container-id-2 div.sk-estimator.fitted {\n",
              "  /* fitted */\n",
              "  background-color: var(--sklearn-color-fitted-level-0);\n",
              "}\n",
              "\n",
              "/* on hover */\n",
              "#sk-container-id-2 div.sk-estimator:hover {\n",
              "  /* unfitted */\n",
              "  background-color: var(--sklearn-color-unfitted-level-2);\n",
              "}\n",
              "\n",
              "#sk-container-id-2 div.sk-estimator.fitted:hover {\n",
              "  /* fitted */\n",
              "  background-color: var(--sklearn-color-fitted-level-2);\n",
              "}\n",
              "\n",
              "/* Specification for estimator info (e.g. \"i\" and \"?\") */\n",
              "\n",
              "/* Common style for \"i\" and \"?\" */\n",
              "\n",
              ".sk-estimator-doc-link,\n",
              "a:link.sk-estimator-doc-link,\n",
              "a:visited.sk-estimator-doc-link {\n",
              "  float: right;\n",
              "  font-size: smaller;\n",
              "  line-height: 1em;\n",
              "  font-family: monospace;\n",
              "  background-color: var(--sklearn-color-background);\n",
              "  border-radius: 1em;\n",
              "  height: 1em;\n",
              "  width: 1em;\n",
              "  text-decoration: none !important;\n",
              "  margin-left: 0.5em;\n",
              "  text-align: center;\n",
              "  /* unfitted */\n",
              "  border: var(--sklearn-color-unfitted-level-1) 1pt solid;\n",
              "  color: var(--sklearn-color-unfitted-level-1);\n",
              "}\n",
              "\n",
              ".sk-estimator-doc-link.fitted,\n",
              "a:link.sk-estimator-doc-link.fitted,\n",
              "a:visited.sk-estimator-doc-link.fitted {\n",
              "  /* fitted */\n",
              "  border: var(--sklearn-color-fitted-level-1) 1pt solid;\n",
              "  color: var(--sklearn-color-fitted-level-1);\n",
              "}\n",
              "\n",
              "/* On hover */\n",
              "div.sk-estimator:hover .sk-estimator-doc-link:hover,\n",
              ".sk-estimator-doc-link:hover,\n",
              "div.sk-label-container:hover .sk-estimator-doc-link:hover,\n",
              ".sk-estimator-doc-link:hover {\n",
              "  /* unfitted */\n",
              "  background-color: var(--sklearn-color-unfitted-level-3);\n",
              "  color: var(--sklearn-color-background);\n",
              "  text-decoration: none;\n",
              "}\n",
              "\n",
              "div.sk-estimator.fitted:hover .sk-estimator-doc-link.fitted:hover,\n",
              ".sk-estimator-doc-link.fitted:hover,\n",
              "div.sk-label-container:hover .sk-estimator-doc-link.fitted:hover,\n",
              ".sk-estimator-doc-link.fitted:hover {\n",
              "  /* fitted */\n",
              "  background-color: var(--sklearn-color-fitted-level-3);\n",
              "  color: var(--sklearn-color-background);\n",
              "  text-decoration: none;\n",
              "}\n",
              "\n",
              "/* Span, style for the box shown on hovering the info icon */\n",
              ".sk-estimator-doc-link span {\n",
              "  display: none;\n",
              "  z-index: 9999;\n",
              "  position: relative;\n",
              "  font-weight: normal;\n",
              "  right: .2ex;\n",
              "  padding: .5ex;\n",
              "  margin: .5ex;\n",
              "  width: min-content;\n",
              "  min-width: 20ex;\n",
              "  max-width: 50ex;\n",
              "  color: var(--sklearn-color-text);\n",
              "  box-shadow: 2pt 2pt 4pt #999;\n",
              "  /* unfitted */\n",
              "  background: var(--sklearn-color-unfitted-level-0);\n",
              "  border: .5pt solid var(--sklearn-color-unfitted-level-3);\n",
              "}\n",
              "\n",
              ".sk-estimator-doc-link.fitted span {\n",
              "  /* fitted */\n",
              "  background: var(--sklearn-color-fitted-level-0);\n",
              "  border: var(--sklearn-color-fitted-level-3);\n",
              "}\n",
              "\n",
              ".sk-estimator-doc-link:hover span {\n",
              "  display: block;\n",
              "}\n",
              "\n",
              "/* \"?\"-specific style due to the `<a>` HTML tag */\n",
              "\n",
              "#sk-container-id-2 a.estimator_doc_link {\n",
              "  float: right;\n",
              "  font-size: 1rem;\n",
              "  line-height: 1em;\n",
              "  font-family: monospace;\n",
              "  background-color: var(--sklearn-color-background);\n",
              "  border-radius: 1rem;\n",
              "  height: 1rem;\n",
              "  width: 1rem;\n",
              "  text-decoration: none;\n",
              "  /* unfitted */\n",
              "  color: var(--sklearn-color-unfitted-level-1);\n",
              "  border: var(--sklearn-color-unfitted-level-1) 1pt solid;\n",
              "}\n",
              "\n",
              "#sk-container-id-2 a.estimator_doc_link.fitted {\n",
              "  /* fitted */\n",
              "  border: var(--sklearn-color-fitted-level-1) 1pt solid;\n",
              "  color: var(--sklearn-color-fitted-level-1);\n",
              "}\n",
              "\n",
              "/* On hover */\n",
              "#sk-container-id-2 a.estimator_doc_link:hover {\n",
              "  /* unfitted */\n",
              "  background-color: var(--sklearn-color-unfitted-level-3);\n",
              "  color: var(--sklearn-color-background);\n",
              "  text-decoration: none;\n",
              "}\n",
              "\n",
              "#sk-container-id-2 a.estimator_doc_link.fitted:hover {\n",
              "  /* fitted */\n",
              "  background-color: var(--sklearn-color-fitted-level-3);\n",
              "}\n",
              "</style><div id=\"sk-container-id-2\" class=\"sk-top-container\"><div class=\"sk-text-repr-fallback\"><pre>GridSearchCV(cv=5, estimator=RandomForestRegressor(random_state=42), n_jobs=-1,\n",
              "             param_grid={&#x27;max_depth&#x27;: [3, 5, 7], &#x27;min_samples_leaf&#x27;: [2, 3],\n",
              "                         &#x27;min_samples_split&#x27;: [2, 3],\n",
              "                         &#x27;n_estimators&#x27;: [15, 20]},\n",
              "             scoring=&#x27;neg_mean_squared_error&#x27;, verbose=2)</pre><b>In a Jupyter environment, please rerun this cell to show the HTML representation or trust the notebook. <br />On GitHub, the HTML representation is unable to render, please try loading this page with nbviewer.org.</b></div><div class=\"sk-container\" hidden><div class=\"sk-item sk-dashed-wrapped\"><div class=\"sk-label-container\"><div class=\"sk-label fitted sk-toggleable\"><input class=\"sk-toggleable__control sk-hidden--visually\" id=\"sk-estimator-id-4\" type=\"checkbox\" ><label for=\"sk-estimator-id-4\" class=\"sk-toggleable__label fitted sk-toggleable__label-arrow\"><div><div>GridSearchCV</div></div><div><a class=\"sk-estimator-doc-link fitted\" rel=\"noreferrer\" target=\"_blank\" href=\"https://scikit-learn.org/1.6/modules/generated/sklearn.model_selection.GridSearchCV.html\">?<span>Documentation for GridSearchCV</span></a><span class=\"sk-estimator-doc-link fitted\">i<span>Fitted</span></span></div></label><div class=\"sk-toggleable__content fitted\"><pre>GridSearchCV(cv=5, estimator=RandomForestRegressor(random_state=42), n_jobs=-1,\n",
              "             param_grid={&#x27;max_depth&#x27;: [3, 5, 7], &#x27;min_samples_leaf&#x27;: [2, 3],\n",
              "                         &#x27;min_samples_split&#x27;: [2, 3],\n",
              "                         &#x27;n_estimators&#x27;: [15, 20]},\n",
              "             scoring=&#x27;neg_mean_squared_error&#x27;, verbose=2)</pre></div> </div></div><div class=\"sk-parallel\"><div class=\"sk-parallel-item\"><div class=\"sk-item\"><div class=\"sk-label-container\"><div class=\"sk-label fitted sk-toggleable\"><input class=\"sk-toggleable__control sk-hidden--visually\" id=\"sk-estimator-id-5\" type=\"checkbox\" ><label for=\"sk-estimator-id-5\" class=\"sk-toggleable__label fitted sk-toggleable__label-arrow\"><div><div>best_estimator_: RandomForestRegressor</div></div></label><div class=\"sk-toggleable__content fitted\"><pre>RandomForestRegressor(max_depth=3, min_samples_leaf=2, n_estimators=20,\n",
              "                      random_state=42)</pre></div> </div></div><div class=\"sk-serial\"><div class=\"sk-item\"><div class=\"sk-estimator fitted sk-toggleable\"><input class=\"sk-toggleable__control sk-hidden--visually\" id=\"sk-estimator-id-6\" type=\"checkbox\" ><label for=\"sk-estimator-id-6\" class=\"sk-toggleable__label fitted sk-toggleable__label-arrow\"><div><div>RandomForestRegressor</div></div><div><a class=\"sk-estimator-doc-link fitted\" rel=\"noreferrer\" target=\"_blank\" href=\"https://scikit-learn.org/1.6/modules/generated/sklearn.ensemble.RandomForestRegressor.html\">?<span>Documentation for RandomForestRegressor</span></a></div></label><div class=\"sk-toggleable__content fitted\"><pre>RandomForestRegressor(max_depth=3, min_samples_leaf=2, n_estimators=20,\n",
              "                      random_state=42)</pre></div> </div></div></div></div></div></div></div></div></div>"
            ]
          },
          "metadata": {},
          "execution_count": 13
        }
      ]
    },
    {
      "cell_type": "code",
      "source": [
        "# Best hyperparameters\n",
        "print(f\"Best Parameters for pitching model: {grid_search_pitching.best_params_}\")\n",
        "\n",
        "# Best MSE score\n",
        "best_mse_pitching = -grid_search_pitching.best_score_  # Convert back from negative MSE\n",
        "print(f\"Best Cross-Validated MSE: {best_mse_pitching}\")"
      ],
      "metadata": {
        "colab": {
          "base_uri": "https://localhost:8080/"
        },
        "id": "Jp_uqlWUSZeu",
        "outputId": "0197d048-3009-4ec0-dc1d-fe0c0e5dd1e6"
      },
      "execution_count": 14,
      "outputs": [
        {
          "output_type": "stream",
          "name": "stdout",
          "text": [
            "Best Parameters for pitching model: {'max_depth': 3, 'min_samples_leaf': 2, 'min_samples_split': 2, 'n_estimators': 20}\n",
            "Best Cross-Validated MSE: 26736.145425366518\n"
          ]
        }
      ]
    },
    {
      "cell_type": "markdown",
      "source": [
        "#Results\n",
        "### Batting Model\n",
        "As seen below, our batting model has an RMSE of ~148."
      ],
      "metadata": {
        "id": "1uBt2XbSBoTc"
      }
    },
    {
      "cell_type": "code",
      "source": [
        "# Make predictions using the best estimator\n",
        "best_rf_model_batting = grid_search.best_estimator_\n",
        "y_pred_batting = best_rf_model_batting.predict(X_test_batting)\n",
        "\n",
        "# Plotting the predicted vs actual values\n",
        "plt.figure(figsize=(8, 6))\n",
        "plt.scatter(y_test_batting, y_pred_batting, alpha=0.7, color='black')\n",
        "plt.plot([y_test_batting.min(), y_test_batting.max()], [y_test_batting.min(), y_test_batting.max()], 'r--', lw=2)\n",
        "plt.xlabel('Observed PA')\n",
        "plt.ylabel('Predicted PA')\n",
        "plt.title('Batting Model - Actual vs Predicted PA')\n",
        "plt.grid(True)\n",
        "plt.show()"
      ],
      "metadata": {
        "colab": {
          "base_uri": "https://localhost:8080/",
          "height": 564
        },
        "id": "rrF9Oyb5TcgI",
        "outputId": "44608d52-f01d-41d2-bfe3-a8b5b9d6606b"
      },
      "execution_count": 15,
      "outputs": [
        {
          "output_type": "display_data",
          "data": {
            "text/plain": [
              "<Figure size 800x600 with 1 Axes>"
            ],
            "image/png": "[encoded data removed]"
          },
          "metadata": {}
        }
      ]
    },
    {
      "cell_type": "code",
      "source": [
        "# Calculate RMSE\n",
        "mse = mean_squared_error(y_test_batting, y_pred_batting)\n",
        "rmse = np.sqrt(mse)\n",
        "print(f\"Root Mean Squared Error (RMSE): {rmse:.4f}\")"
      ],
      "metadata": {
        "colab": {
          "base_uri": "https://localhost:8080/"
        },
        "id": "Yj2EAxiHTtzG",
        "outputId": "b8623e0b-2fdd-4bd2-d94f-7de612f92b9d"
      },
      "execution_count": 16,
      "outputs": [
        {
          "output_type": "stream",
          "name": "stdout",
          "text": [
            "Root Mean Squared Error (RMSE): 148.0212\n"
          ]
        }
      ]
    },
    {
      "cell_type": "markdown",
      "source": [
        "### Pitching Model\n",
        "Our pitching model's RMSE is roughly ~146, slightly better than our batting model."
      ],
      "metadata": {
        "id": "MkStuZR9UUnk"
      }
    },
    {
      "cell_type": "code",
      "source": [
        "# Make predictions using the best estimator\n",
        "best_rf_model_pitching = grid_search_pitching.best_estimator_\n",
        "y_pred_pitching = best_rf_model_pitching.predict(X_test_pitching)\n",
        "\n",
        "# Plotting the predicted vs actual values\n",
        "plt.figure(figsize=(8, 6))\n",
        "plt.scatter(y_test_pitching, y_pred_pitching, alpha=0.7, color='blue')\n",
        "plt.plot([y_test_pitching.min(), y_test_pitching.max()], [y_test_pitching.min(), y_test_pitching.max()], 'r--', lw=2)\n",
        "plt.xlabel('Observed BF')\n",
        "plt.ylabel('Predicted BF')\n",
        "plt.title('Pitching Model - Actual vs Predicted BF')\n",
        "plt.grid(True)\n",
        "plt.show()"
      ],
      "metadata": {
        "colab": {
          "base_uri": "https://localhost:8080/",
          "height": 564
        },
        "id": "NPq1bFEHUYZm",
        "outputId": "9286f05c-4635-45d6-98f3-d748531c87bc"
      },
      "execution_count": 17,
      "outputs": [
        {
          "output_type": "display_data",
          "data": {
            "text/plain": [
              "<Figure size 800x600 with 1 Axes>"
            ],
            "image/png": "[encoded data removed]"
          },
          "metadata": {}
        }
      ]
    },
    {
      "cell_type": "code",
      "source": [
        "# Calculate RMSE\n",
        "mse = mean_squared_error(y_test_pitching, y_pred_pitching)\n",
        "rmse = np.sqrt(mse)\n",
        "print(f\"Root Mean Squared Error (RMSE): {rmse:.4f}\")"
      ],
      "metadata": {
        "colab": {
          "base_uri": "https://localhost:8080/"
        },
        "id": "nDdIjYuFUsxF",
        "outputId": "b182cc14-9a98-46ba-e3c3-1939d9394051"
      },
      "execution_count": 18,
      "outputs": [
        {
          "output_type": "stream",
          "name": "stdout",
          "text": [
            "Root Mean Squared Error (RMSE): 146.7795\n"
          ]
        }
      ]
    },
    {
      "cell_type": "markdown",
      "source": [
        "### Feature importances\n",
        "Our next step was to further understand our model. To do this, we plotted feature importances for both our batting and out pitching models. Feature importance is essentially the amount of impurity a specific feature is able to clear in a RandomForest model. The idea here is that if a node splits data on a certain feature, and it decreases the impurity significantly, that feature will have high importance. More documentation on feature importances can be found [here](https://www.geeksforgeeks.org/feature-importance-with-random-forests/)."
      ],
      "metadata": {
        "id": "xFMyWrc5UyoG"
      }
    },
    {
      "cell_type": "code",
      "source": [
        "# Get feature importances from the best model\n",
        "importances = best_rf_model_batting.feature_importances_\n",
        "\n",
        "# Pair feature names with their importances\n",
        "feature_importance = pd.Series(importances, index=features_batting).sort_values(ascending=False)\n",
        "\n",
        "# Plot the feature importances\n",
        "plt.figure(figsize=(8, 6))\n",
        "feature_importance.plot(kind='barh', color='black')\n",
        "plt.xlabel('Importance')\n",
        "plt.title('Feature Importances in Batting Random Forest Model')\n",
        "plt.gca().invert_yaxis()\n",
        "plt.grid(axis='x')\n",
        "plt.show()\n",
        "\n"
      ],
      "metadata": {
        "colab": {
          "base_uri": "https://localhost:8080/",
          "height": 564
        },
        "id": "6m8y_gC0Xc6O",
        "outputId": "9a6003e5-b688-463c-e241-aa60d2495201"
      },
      "execution_count": 19,
      "outputs": [
        {
          "output_type": "display_data",
          "data": {
            "text/plain": [
              "<Figure size 800x600 with 1 Axes>"
            ],
            "image/png": "[encoded data removed]"
          },
          "metadata": {}
        }
      ]
    },
    {
      "cell_type": "markdown",
      "source": [
        "As seen above, previous year plate appearances is by far the most predictive variable in terms of estimating plate appearances in the current year. While this makes sense, we were surprised to see that our other variables didn't end up having much predictive power."
      ],
      "metadata": {
        "id": "lu-47o6WZThc"
      }
    },
    {
      "cell_type": "code",
      "source": [
        "# Get feature importances from the best pitching model\n",
        "importances_pitching = best_rf_model_pitching.feature_importances_\n",
        "\n",
        "# Pair feature names with their importances\n",
        "feature_importances_pitching = pd.Series(importances_pitching, index=features_pitching).sort_values(ascending=False)\n",
        "\n",
        "# Plot the feature importances\n",
        "plt.figure(figsize=(8, 6))\n",
        "feature_importances_pitching.plot(kind='barh', color='blue')\n",
        "plt.xlabel('Importance')\n",
        "plt.title('Feature Importances in Pitching Random Forest Model')\n",
        "plt.gca().invert_yaxis()  # Invert to show the most important feature on top\n",
        "plt.grid(axis='x')\n",
        "plt.show()"
      ],
      "metadata": {
        "colab": {
          "base_uri": "https://localhost:8080/",
          "height": 564
        },
        "id": "4cGD6zyxW_Y6",
        "outputId": "62eace66-c935-4779-8140-1e383b33d65b"
      },
      "execution_count": 20,
      "outputs": [
        {
          "output_type": "display_data",
          "data": {
            "text/plain": [
              "<Figure size 800x600 with 1 Axes>"
            ],
            "image/png": "[encoded data removed]"
          },
          "metadata": {}
        }
      ]
    },
    {
      "cell_type": "markdown",
      "source": [
        "As observed above, the most important feature here is the amount of pitches thrown in the previous year. This is interesting, because it has more predictive power than previous year batters faced. We believe this is because pitchers are most often pulled based on number of pitches as opposed to batters faced, and batters faced is a somewhat variable reflection of pitch count.\n",
        "Also worth noting is that height, weight and age are not as predictive as we anticipated."
      ],
      "metadata": {
        "id": "ytoP86D1XEd4"
      }
    },
    {
      "cell_type": "markdown",
      "source": [
        "# Leaderboard Submission\n",
        "We then needed to make predictions for every player in the dataset. To do this, we loaded in the sample submission to grab a list of players, and made predictions from there. Our final prediction for PA/BF is the sum of our PA predictions and our BF predictions for each player."
      ],
      "metadata": {
        "id": "KMKlZbskTYl5"
      }
    },
    {
      "cell_type": "code",
      "source": [
        "sample_submission = pd.read_csv('/content/drive/MyDrive/RedsComp25/sample_submission.csv')"
      ],
      "metadata": {
        "id": "8inY_FhOZnQT"
      },
      "execution_count": 21,
      "outputs": []
    },
    {
      "cell_type": "code",
      "source": [
        "#get 2023 data, as it is relevant to 2024 predictions\n",
        "data_23 = data[data['year'] == 2023]\n",
        "data_to_merge = data_23[['player', 'weight', 'height', 'age', 'bats_L', 'bats_R', 'bats_B', 'throws', 'primary_position', 'prev_year_tto',\n",
        "            'pitches_played_in_field', 'pitches_thrown', 'ff_avg', 'position_0.0', 'position_1.0',\n",
        "       'position_2.0', 'position_3.0', 'position_4.0', 'position_5.0',\n",
        "       'position_6.0', 'position_7.0', 'position_8.0', 'position_9.0', 'pct_relief','bf', 'pa']]\n",
        "\n",
        "#merge data with sample submission\n",
        "sample_submission = pd.merge(sample_submission, data_to_merge,\n",
        "                              left_on = 'PLAYER_ID', right_on='player', how='left')\n",
        "\n",
        "#drop 'player' column as it is a duplicate\n",
        "sample_submission = sample_submission.drop('player', axis=1)\n",
        "\n",
        "#fill na values with zero\n",
        "sample_submission = sample_submission.fillna(0)\n"
      ],
      "metadata": {
        "id": "DYokxsBraLvr"
      },
      "execution_count": 22,
      "outputs": []
    },
    {
      "cell_type": "code",
      "source": [
        "#rename columns according to model architecture\n",
        "sample_submission = sample_submission.rename(columns={'primary_position': 'prev_year_primary_position', 'pitches_played_in_field': 'prev_year_pitches_played_in_field',\n",
        "                                  'pa': 'prev_year_pa', 'bf': 'prev_year_bf', 'pitches_thrown': 'prev_year_pitches_thrown',\n",
        "                                  'ff_avg': 'prev_year_fastball_avg_velo', 'pct_relief': 'prev_year_pct_relief',\n",
        "                                 'ff_avg': 'prev_year_fastball_avg_velo'\n",
        "                                  })"
      ],
      "metadata": {
        "id": "7ECkbHtEaeqS"
      },
      "execution_count": 23,
      "outputs": []
    },
    {
      "cell_type": "code",
      "source": [
        "#make plate appearance predictions\n",
        "pred_plate_appearance = best_rf_model_batting.predict(sample_submission[features_batting])\n",
        "sample_submission['predicted_pa'] = pred_plate_appearance\n",
        "\n",
        "#make batters faced predictions\n",
        "pred_batters_faced = best_rf_model_pitching.predict(sample_submission[features_pitching])\n",
        "sample_submission['predicted_bf'] = pred_batters_faced\n",
        "\n",
        "#make pa and bf zero respectively if prev year pa/bf is zero\n",
        "sample_submission['predicted_pa'] = np.where(sample_submission['prev_year_pa'] == 0, 0, sample_submission['predicted_pa'])\n",
        "sample_submission['predicted_bf'] = np.where(sample_submission['prev_year_bf'] == 0, 0, sample_submission['predicted_bf'])\n",
        "\n",
        "#get final predicted playing time column through addition\n",
        "sample_submission['PREDICTED_PLAYING_TIME'] = sample_submission['predicted_pa'] + sample_submission['predicted_bf']\n",
        "\n",
        "#predict 100 for anybody who's prediction is zero (likely rookies)\n",
        "sample_submission['PREDICTED_PLAYING_TIME'] = np.where(sample_submission['PREDICTED_PLAYING_TIME'] == 0, 100, sample_submission['PREDICTED_PLAYING_TIME'])\n"
      ],
      "metadata": {
        "id": "bnV2egJWagmn"
      },
      "execution_count": 24,
      "outputs": []
    },
    {
      "cell_type": "code",
      "source": [
        "#shorten columns for final submission\n",
        "final_submission = sample_submission[['PLAYER_ID', 'PREDICTED_PLAYING_TIME']]\n",
        "final_submission = final_submission.rename(columns={'PREDICTED_PLAYING_TIME': 'PLAYING_TIME'})"
      ],
      "metadata": {
        "id": "cS8AEIeNa42I"
      },
      "execution_count": 25,
      "outputs": []
    },
    {
      "cell_type": "code",
      "source": [
        "#dump our final submission to csv\n",
        "final_submission.to_csv('/content/drive/MyDrive/RedsComp25/tufts_submission.csv', index=False)"
      ],
      "metadata": {
        "id": "ifJTfOf8bMgz"
      },
      "execution_count": 26,
      "outputs": []
    },
    {
      "cell_type": "markdown",
      "source": [
        "# Limitations\n",
        "\n",
        "### Performance\n",
        "Despite the efficacy of our model, there were some issues that we were unable to account for. One of these issues involved approaching the data from a 'roster-agnostic' perspective. Though we were trying to predict how many games a player is capable of playing in a vacuum, a player's number of plate appearances/batters faced in 2024 was very much affected by both their performance and the competition they faced from their teammates.\n",
        "\n",
        "### Rookies\n",
        "Another limitation we encountered was the challenge of making predictions for individuals with no prior data, such as rookies. Since our model relies exclusively on data from the previous year, it originally predicted zero appearances for players without historical records. To address this issue, we modified the model by assigning a baseline of 100 batters faced or plate appearances to those without prior data. While this approximation improved the model’s ability to estimate player availability compared to the initial approach, it remains a limitation.\n",
        "\n",
        "### Team performance\n",
        "Additionally, team performance can influence the number of games played by a player. In other words, if a team is winning games, they are more likely to start their best players as they try to win the division or grab a wild card spot. Conversely, a team that is unlikely to make the playoffs might give their better players time to rest and allow younger players or bench players to get more exposure.\n",
        "\n",
        "### Specific culture-based decision making\n",
        "Beyond team success and player performance, there are other reasons a team might choose to play or bench a player. Major League teams are full of internal politics that can push the time a player is on the field in either direction for a variety of reasons."
      ],
      "metadata": {
        "id": "aO1xvyvoBpbt"
      }
    },
    {
      "cell_type": "markdown",
      "source": [
        "# Acknowledgements\n",
        "We would like to thank the Cincinnati Reds for the data provided for this project.  \n",
        "We relied on ChatGPT, StackOverflow and GeeksForGeeks for coding assistance throughout the project."
      ],
      "metadata": {
        "id": "12UfIQv1qOI4"
      }
    }
  ]
}